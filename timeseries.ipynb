{
 "cells": [
  {
   "cell_type": "code",
   "execution_count": 2,
   "metadata": {},
   "outputs": [],
   "source": [
    "import pandas as pd\n",
    "import warnings \n",
    "import sys\n",
    "from statsmodels.tsa.api import ExponentialSmoothing, SimpleExpSmoothing, Holt\n",
    "from pmdarima.arima import auto_arima\n",
    "from numpy import median,mean\n",
    "import numpy as np\n",
    "import seaborn as sns\n",
    "import warnings\n",
    "warnings.filterwarnings(\"ignore\")"
   ]
  },
  {
   "cell_type": "markdown",
   "metadata": {},
   "source": [
    "## Reading data"
   ]
  },
  {
   "cell_type": "code",
   "execution_count": 3,
   "metadata": {},
   "outputs": [
    {
     "data": {
      "text/html": [
       "<div>\n",
       "<style scoped>\n",
       "    .dataframe tbody tr th:only-of-type {\n",
       "        vertical-align: middle;\n",
       "    }\n",
       "\n",
       "    .dataframe tbody tr th {\n",
       "        vertical-align: top;\n",
       "    }\n",
       "\n",
       "    .dataframe thead th {\n",
       "        text-align: right;\n",
       "    }\n",
       "</style>\n",
       "<table border=\"1\" class=\"dataframe\">\n",
       "  <thead>\n",
       "    <tr style=\"text-align: right;\">\n",
       "      <th></th>\n",
       "      <th>date</th>\n",
       "      <th>sales</th>\n",
       "    </tr>\n",
       "  </thead>\n",
       "  <tbody>\n",
       "    <tr>\n",
       "      <th>0</th>\n",
       "      <td>7/1/2014</td>\n",
       "      <td>762</td>\n",
       "    </tr>\n",
       "    <tr>\n",
       "      <th>1</th>\n",
       "      <td>8/1/2014</td>\n",
       "      <td>573</td>\n",
       "    </tr>\n",
       "    <tr>\n",
       "      <th>2</th>\n",
       "      <td>9/1/2014</td>\n",
       "      <td>637</td>\n",
       "    </tr>\n",
       "    <tr>\n",
       "      <th>3</th>\n",
       "      <td>10/1/2014</td>\n",
       "      <td>770</td>\n",
       "    </tr>\n",
       "    <tr>\n",
       "      <th>4</th>\n",
       "      <td>11/1/2014</td>\n",
       "      <td>614</td>\n",
       "    </tr>\n",
       "  </tbody>\n",
       "</table>\n",
       "</div>"
      ],
      "text/plain": [
       "        date  sales\n",
       "0   7/1/2014    762\n",
       "1   8/1/2014    573\n",
       "2   9/1/2014    637\n",
       "3  10/1/2014    770\n",
       "4  11/1/2014    614"
      ]
     },
     "execution_count": 3,
     "metadata": {},
     "output_type": "execute_result"
    }
   ],
   "source": [
    "# Reading Raw file\n",
    "SCDData=pd.read_csv(\"D:/Data Science with Python/Module 10/time series/raw.csv\")\n",
    "SCDData.head()"
   ]
  },
  {
   "cell_type": "code",
   "execution_count": 4,
   "metadata": {},
   "outputs": [],
   "source": [
    "SCDData['date']=SCDData['date'].apply(lambda x: pd.to_datetime(x))"
   ]
  },
  {
   "cell_type": "code",
   "execution_count": 5,
   "metadata": {
    "scrolled": true
   },
   "outputs": [
    {
     "data": {
      "text/plain": [
       "date     datetime64[ns]\n",
       "sales             int64\n",
       "dtype: object"
      ]
     },
     "execution_count": 5,
     "metadata": {},
     "output_type": "execute_result"
    }
   ],
   "source": [
    "SCDData.dtypes"
   ]
  },
  {
   "cell_type": "code",
   "execution_count": 6,
   "metadata": {
    "scrolled": true
   },
   "outputs": [
    {
     "data": {
      "text/plain": [
       "Timestamp('2018-07-01 00:00:00')"
      ]
     },
     "execution_count": 6,
     "metadata": {},
     "output_type": "execute_result"
    }
   ],
   "source": [
    "max(SCDData['date'])"
   ]
  },
  {
   "cell_type": "code",
   "execution_count": 7,
   "metadata": {
    "scrolled": true
   },
   "outputs": [
    {
     "data": {
      "text/plain": [
       "Timestamp('2014-07-01 00:00:00')"
      ]
     },
     "execution_count": 7,
     "metadata": {},
     "output_type": "execute_result"
    }
   ],
   "source": [
    "min(SCDData['date'])"
   ]
  },
  {
   "cell_type": "code",
   "execution_count": 8,
   "metadata": {},
   "outputs": [
    {
     "data": {
      "text/html": [
       "<div>\n",
       "<style scoped>\n",
       "    .dataframe tbody tr th:only-of-type {\n",
       "        vertical-align: middle;\n",
       "    }\n",
       "\n",
       "    .dataframe tbody tr th {\n",
       "        vertical-align: top;\n",
       "    }\n",
       "\n",
       "    .dataframe thead th {\n",
       "        text-align: right;\n",
       "    }\n",
       "</style>\n",
       "<table border=\"1\" class=\"dataframe\">\n",
       "  <thead>\n",
       "    <tr style=\"text-align: right;\">\n",
       "      <th></th>\n",
       "      <th>date</th>\n",
       "      <th>sales</th>\n",
       "    </tr>\n",
       "  </thead>\n",
       "  <tbody>\n",
       "    <tr>\n",
       "      <th>0</th>\n",
       "      <td>2014-07-01</td>\n",
       "      <td>762</td>\n",
       "    </tr>\n",
       "    <tr>\n",
       "      <th>1</th>\n",
       "      <td>2014-08-01</td>\n",
       "      <td>573</td>\n",
       "    </tr>\n",
       "    <tr>\n",
       "      <th>2</th>\n",
       "      <td>2014-09-01</td>\n",
       "      <td>637</td>\n",
       "    </tr>\n",
       "    <tr>\n",
       "      <th>3</th>\n",
       "      <td>2014-10-01</td>\n",
       "      <td>770</td>\n",
       "    </tr>\n",
       "    <tr>\n",
       "      <th>4</th>\n",
       "      <td>2014-11-01</td>\n",
       "      <td>614</td>\n",
       "    </tr>\n",
       "  </tbody>\n",
       "</table>\n",
       "</div>"
      ],
      "text/plain": [
       "        date  sales\n",
       "0 2014-07-01    762\n",
       "1 2014-08-01    573\n",
       "2 2014-09-01    637\n",
       "3 2014-10-01    770\n",
       "4 2014-11-01    614"
      ]
     },
     "execution_count": 8,
     "metadata": {},
     "output_type": "execute_result"
    }
   ],
   "source": [
    "SCDData.head()"
   ]
  },
  {
   "cell_type": "code",
   "execution_count": 9,
   "metadata": {
    "scrolled": false
   },
   "outputs": [
    {
     "name": "stdout",
     "output_type": "stream",
     "text": [
      "            sales\n",
      "date             \n",
      "2014-07-01    762\n",
      "2014-08-01    573\n",
      "2014-09-01    637\n",
      "2014-10-01    770\n",
      "2014-11-01    614\n"
     ]
    },
    {
     "data": {
      "text/plain": [
       "<matplotlib.axes._subplots.AxesSubplot at 0x12adfd626a0>"
      ]
     },
     "execution_count": 9,
     "metadata": {},
     "output_type": "execute_result"
    },
    {
     "data": {
      "image/png": "[encoded data removed]",
      "text/plain": [
       "<Figure size 432x288 with 1 Axes>"
      ]
     },
     "metadata": {
      "needs_background": "light"
     },
     "output_type": "display_data"
    }
   ],
   "source": [
    "SCDData.index=SCDData.date\n",
    "SCDData1=SCDData.drop('date', axis=1)\n",
    "print(SCDData1.head())\n",
    "sns.tsplot(data=SCDData1.sales)"
   ]
  },
  {
   "cell_type": "code",
   "execution_count": 10,
   "metadata": {},
   "outputs": [
    {
     "data": {
      "text/plain": [
       "49"
      ]
     },
     "execution_count": 10,
     "metadata": {},
     "output_type": "execute_result"
    }
   ],
   "source": [
    "len(SCDData1)"
   ]
  },
  {
   "cell_type": "code",
   "execution_count": 11,
   "metadata": {},
   "outputs": [],
   "source": [
    "def remove_outlier(df1):\n",
    "    q1 = df1.ix[:,1].quantile(0.25)\n",
    "    q3 = df1.ix[:,1].quantile(0.75)\n",
    "    iqr = q3-q1 #Interquartile range\n",
    "    fence_low  = q1-1.5*iqr\n",
    "    fence_high = q3+1.5*iqr\n",
    "    df1.ix[:,1] = np.where((df1.ix[:,1] <fence_low) & (df1.ix[:,1] > fence_high), median(df1.ix[:,1]), df1.ix[:,1])\n",
    "    # Treat zero\n",
    "    df1.ix[:,1]=df1.ix[:,1].replace(0,df1.ix[:,1].mean())\n",
    "    return(df1)\n",
    "\n",
    "def Create_train_test(df1):\n",
    "    df1.index=df1['date']\n",
    "    train = df1[0:len(df1)-3]\n",
    "    test = df1[len(df1)-3:len(df1)]\n",
    "    print(train.head())\n",
    "    print(test.head())\n",
    "    return(train,test)\n",
    "\n",
    "def mape(y_true, y_pred): \n",
    "    y_true, y_pred = np.array(y_true), np.array(y_pred)\n",
    "    return np.mean(np.abs((y_true - y_pred) / y_true))  \n",
    "\n",
    "def Simple_average(df1,df2):\n",
    "    #prediction\n",
    "    future_forecast=[0 for _ in range(len(df2))]\n",
    "    future_forecast = [df1.ix[:,1].mean() for x in future_forecast]\n",
    "    Sa_mape=mape(df2.ix[:,1],future_forecast)\n",
    "    #stderr\n",
    "    stder=np.std(list(np.array(df1.ix[:,1])-np.array(df1.ix[:,1].mean())))\n",
    "    return(Sa_mape,future_forecast,stder)\n",
    "\n",
    "def Simple_Moving(df1,df2):\n",
    "    #prediction\n",
    "    future_forecast=[0 for _ in range(len(df2))]\n",
    "    future_forecast = [df1.ix[:,1].rolling(3).mean().iloc[-1] for x in future_forecast]\n",
    "    Sm_mape=mape(df2.ix[:,1],future_forecast)\n",
    "    #stderr\n",
    "    x1=list(np.array(df1.ix[:,1])-np.array(df1.ix[:,1].rolling(3).mean()))\n",
    "    l = [x for x in x1 if ~np.isnan(x)]\n",
    "    stder=np.std(l)\n",
    "    return(Sm_mape,future_forecast,stder)\n",
    "\n",
    "def Naive(df1,df2):\n",
    "    #prediction\n",
    "    future_forecast=[0 for _ in range(len(df2))]\n",
    "    future_forecast = [df1.ix[:,1].iloc[-1] for x in future_forecast]\n",
    "    Na_mape=mape(df2.ix[:,1],future_forecast)\n",
    "    #stderr\n",
    "    stder=np.std(np.ediff1d(df1.ix[:,1]))\n",
    "    return(Na_mape,future_forecast,stder)\n",
    "    \n",
    "\n",
    "def Seasonal_Naive(df1,df2):\n",
    "    #prediction\n",
    "    daterange =df2['date'].apply(lambda x: x - pd.DateOffset(years=1))\n",
    "    print(daterange)\n",
    "    future_forecast=df1.ix[:,1][df1['date'].isin(daterange)]\n",
    "    SNa_mape=mape(df2.ix[:,1],future_forecast)\n",
    "    #stderr\n",
    "    daterange1 =df1['date'].apply(lambda x: x - pd.DateOffset(years=1))\n",
    "    x=df1.ix[:,1][df1['date'].isin(daterange1)]\n",
    "    stder=np.std(list(np.array(df1.ix[len(df1)-len(x):len(df1):,1])-np.array(x)))\n",
    "    return(SNa_mape,future_forecast,stder)\n",
    "    \n",
    "\n",
    "###need to correct  stderr  \n",
    "def Rwdrift(df1,df2):\n",
    "    #prediction\n",
    "    y_t = df1.ix[:,1].iloc[-1]\n",
    "    m = (y_t - df1.ix[:,1].iloc[0]) / len(df1.ix[:,1])\n",
    "    h = np.linspace(0,len(df2.ix[:,1])-1, len(df2.ix[:,1]))\n",
    "    future_forecast = y_t + m * h\n",
    "    Rwd_mape=mape(df2.ix[:,1],future_forecast)\n",
    "    \n",
    "    ##stder\n",
    "    h1 = np.linspace(0,len(df1.ix[:,1])-1, len(df1.ix[:,1]))\n",
    "    future_forecast1 = y_t + m * h1\n",
    "    stder=np.std(list(np.array(df1.ix[:,1])-np.array(future_forecast1)))\n",
    "    print(stder)\n",
    "    return(Rwd_mape,future_forecast,stder)\n",
    "    \n",
    "\n",
    "def Auto_arima(df1,df2):\n",
    "    stepwise_model = auto_arima(df1.ix[:,1],seasonal=True,trace=True,error_action='ignore',  suppress_warnings=True, stepwise=True)\n",
    "    #prediction\n",
    "    future_forecast = stepwise_model.predict(n_periods=len(df2))\n",
    "    Arima_mape=mape(df2.ix[:,1],future_forecast)\n",
    "    stder=np.std(stepwise_model.resid())\n",
    "    return(Arima_mape,future_forecast,stder)\n",
    "    \n",
    "def SimpleExp_Smoothing(df1,df2):\n",
    "    stepwise_model = SimpleExpSmoothing(df1.ix[:,1]).fit(smoothing_level= 0.6,optimized=False)\n",
    "    #prediction\n",
    "    future_forecast = stepwise_model.forecast(len(df2))\n",
    "    Ses_mape=mape(future_forecast,df2.ix[:,1])\n",
    "    stder=np.std(stepwise_model.resid)\n",
    "    return(Ses_mape,future_forecast,stder)\n",
    "\n",
    "def Holtwinter_Linear(df1,df2):\n",
    "    stepwise_model = Holt(df1.ix[:,1]).fit(smoothing_level = 0.3,smoothing_slope = 0.1)\n",
    "    #prediction\n",
    "    future_forecast = stepwise_model.forecast(len(df2))\n",
    "    Holtli_mape=mape(df2.ix[:,1],future_forecast)\n",
    "    stder=np.std(stepwise_model.resid)\n",
    "    return(Holtli_mape,future_forecast,stder)\n",
    "\n",
    "def Holtwinter_Seasonal(df1,df2):\n",
    "    stepwise_model = ExponentialSmoothing(df1.ix[:,1],seasonal_periods=3 ,trend='add', seasonal='add').fit()\n",
    "    #prediction\n",
    "    future_forecast = stepwise_model.forecast(len(df2))\n",
    "    holtwi_mape=mape(df2.ix[:,1],future_forecast)\n",
    "    stder=np.std(stepwise_model.resid)\n",
    "    print(stder)\n",
    "    return(holtwi_mape,future_forecast,stder)\n"
   ]
  },
  {
   "cell_type": "code",
   "execution_count": 12,
   "metadata": {
    "scrolled": false
   },
   "outputs": [
    {
     "name": "stdout",
     "output_type": "stream",
     "text": [
      "                 date  sales\n",
      "date                        \n",
      "2014-07-01 2014-07-01  762.0\n",
      "2014-08-01 2014-08-01  573.0\n",
      "2014-09-01 2014-09-01  637.0\n",
      "2014-10-01 2014-10-01  770.0\n",
      "2014-11-01 2014-11-01  614.0\n",
      "                 date  sales\n",
      "date                        \n",
      "2018-05-01 2018-05-01  634.0\n",
      "2018-06-01 2018-06-01  726.0\n",
      "2018-07-01 2018-07-01  456.0\n",
      "date\n",
      "2018-05-01   2017-05-01\n",
      "2018-06-01   2017-06-01\n",
      "2018-07-01   2017-07-01\n",
      "Name: date, dtype: datetime64[ns]\n",
      "110.16527421005648\n",
      "Fit ARIMA: order=(2, 1, 2) seasonal_order=(0, 0, 0, 1); AIC=562.254, BIC=573.094, Fit time=0.521 seconds\n",
      "Fit ARIMA: order=(0, 1, 0) seasonal_order=(0, 0, 0, 1); AIC=577.176, BIC=580.789, Fit time=0.014 seconds\n",
      "Fit ARIMA: order=(1, 1, 0) seasonal_order=(0, 0, 0, 1); AIC=576.647, BIC=582.067, Fit time=0.091 seconds\n",
      "Fit ARIMA: order=(0, 1, 1) seasonal_order=(0, 0, 0, 1); AIC=561.657, BIC=567.077, Fit time=0.086 seconds\n",
      "Fit ARIMA: order=(1, 1, 1) seasonal_order=(0, 0, 0, 1); AIC=561.486, BIC=568.713, Fit time=0.117 seconds\n",
      "Fit ARIMA: order=(1, 1, 2) seasonal_order=(0, 0, 0, 1); AIC=560.995, BIC=570.029, Fit time=0.190 seconds\n",
      "Fit ARIMA: order=(2, 1, 3) seasonal_order=(0, 0, 0, 1); AIC=561.898, BIC=574.545, Fit time=0.559 seconds\n",
      "Fit ARIMA: order=(0, 1, 2) seasonal_order=(0, 0, 0, 1); AIC=559.847, BIC=567.074, Fit time=0.160 seconds\n",
      "Fit ARIMA: order=(0, 1, 3) seasonal_order=(0, 0, 0, 1); AIC=560.446, BIC=569.480, Fit time=0.179 seconds\n",
      "Fit ARIMA: order=(1, 1, 3) seasonal_order=(0, 0, 0, 1); AIC=563.760, BIC=574.600, Fit time=0.317 seconds\n",
      "Total fit time: 2.253 seconds\n",
      "119.93602910205796\n"
     ]
    }
   ],
   "source": [
    "df11=remove_outlier(SCDData)\n",
    "train,test=Create_train_test(df11)\n",
    "Sa_mape,Sa_future,Sa_Resstd=Simple_average(train,test)\n",
    "Sm_mape,Sm_future,Sm_Resstd=Simple_Moving(train,test)\n",
    "Na_mape,Na_future,Na_Resstd=Naive(train,test)\n",
    "SNa_mape,SNa_future,SNa_Resstd=Seasonal_Naive(train,test)\n",
    "Rwd_mape,Rwd_future,Rwd_Resstd=Rwdrift(train,test)\n",
    "Arima_mape,Arima_future,Arima_Resstd=Auto_arima(train,test)\n",
    "Ses_mape,Ses_future,Ses_Resstd=SimpleExp_Smoothing(train,test)\n",
    "Holtli_mape,Holtli_future,Holtli_Resstd=Holtwinter_Linear(train,test)\n",
    "Holtwi_mape,Holtwi_future,Holtwi_Resstd=Holtwinter_Seasonal(train,test)"
   ]
  },
  {
   "cell_type": "markdown",
   "metadata": {},
   "source": [
    "# AIC will tell about the complexity of model-lower AIC prefered."
   ]
  },
  {
   "cell_type": "code",
   "execution_count": 23,
   "metadata": {},
   "outputs": [
    {
     "name": "stdout",
     "output_type": "stream",
     "text": [
      "MAPE from Simple average: 0.1743391098982626\n"
     ]
    }
   ],
   "source": [
    "print('MAPE from Simple average:',Sa_mape)"
   ]
  },
  {
   "cell_type": "code",
   "execution_count": 24,
   "metadata": {},
   "outputs": [
    {
     "name": "stdout",
     "output_type": "stream",
     "text": [
      "MAPE from simple moving: 0.20189516480061817\n"
     ]
    }
   ],
   "source": [
    "print('MAPE from simple moving:',Sm_mape)"
   ]
  },
  {
   "cell_type": "code",
   "execution_count": 25,
   "metadata": {},
   "outputs": [
    {
     "name": "stdout",
     "output_type": "stream",
     "text": [
      "MAPE from naive: 0.19647852424292736\n"
     ]
    }
   ],
   "source": [
    "print('MAPE from naive:',Na_mape)"
   ]
  },
  {
   "cell_type": "code",
   "execution_count": 26,
   "metadata": {},
   "outputs": [
    {
     "name": "stdout",
     "output_type": "stream",
     "text": [
      "MAPE from seasonal naive: 0.16354660593223377\n"
     ]
    }
   ],
   "source": [
    "print('MAPE from seasonal naive:',SNa_mape)"
   ]
  },
  {
   "cell_type": "code",
   "execution_count": 27,
   "metadata": {},
   "outputs": [
    {
     "name": "stdout",
     "output_type": "stream",
     "text": [
      "MAPE from random walk: 0.19161687467043945\n"
     ]
    }
   ],
   "source": [
    "print('MAPE from random walk:',Rwd_mape)"
   ]
  },
  {
   "cell_type": "code",
   "execution_count": 28,
   "metadata": {},
   "outputs": [
    {
     "name": "stdout",
     "output_type": "stream",
     "text": [
      "MAPE from arima: 0.19314525559669718\n"
     ]
    }
   ],
   "source": [
    "print('MAPE from arima:',Arima_mape)"
   ]
  },
  {
   "cell_type": "code",
   "execution_count": 29,
   "metadata": {},
   "outputs": [
    {
     "name": "stdout",
     "output_type": "stream",
     "text": [
      "Simple expponential smoothning: 0.2364558337336624\n"
     ]
    }
   ],
   "source": [
    "print('Simple expponential smoothning:',Ses_mape)"
   ]
  },
  {
   "cell_type": "code",
   "execution_count": 30,
   "metadata": {},
   "outputs": [
    {
     "name": "stdout",
     "output_type": "stream",
     "text": [
      "MAPE  from holtwinter linear: 0.19590289546358897\n"
     ]
    }
   ],
   "source": [
    "print('MAPE  from holtwinter linear:',Holtli_mape)"
   ]
  },
  {
   "cell_type": "code",
   "execution_count": 32,
   "metadata": {},
   "outputs": [
    {
     "name": "stdout",
     "output_type": "stream",
     "text": [
      "MAPE  from holtwinter seasonal: 0.24768910391029877\n"
     ]
    }
   ],
   "source": [
    "print('MAPE  from holtwinter seasonal:',Holtwi_mape)"
   ]
  }
 ],
 "metadata": {
  "kernelspec": {
   "display_name": "'vedenv'",
   "language": "python",
   "name": "vedenv"
  },
  "language_info": {
   "codemirror_mode": {
    "name": "ipython",
    "version": 3
   },
   "file_extension": ".py",
   "mimetype": "text/x-python",
   "name": "python",
   "nbconvert_exporter": "python",
   "pygments_lexer": "ipython3",
   "version": "3.7.3"
  }
 },
 "nbformat": 4,
 "nbformat_minor": 2
}
